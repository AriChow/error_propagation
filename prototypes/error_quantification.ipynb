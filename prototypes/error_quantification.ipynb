{
 "cells": [
  {
   "cell_type": "code",
   "execution_count": 1,
   "metadata": {
    "collapsed": true
   },
   "outputs": [],
   "source": [
    "import numpy as np\n",
    "import os\n",
    "import pickle\n",
    "\n",
    "home = os.path.expanduser('~')\n",
    "data_home = home + '/Documents/research/EP_project/data/'\n",
    "results_home = home + '/Documents/research/EP_project/results/'\n",
    "\n",
    "# Specification of pipeline\n",
    "pipeline = {}\n",
    "datasets = ['breast', 'brain', 'matsc_dataset1', 'matsc_dataset2']\n",
    "pipeline['feature_extraction'] = [\"haralick\"]\n",
    "pipeline['dimensionality_reduction'] = [\"ISOMAP\"]\n",
    "pipeline['learning_algorithm'] = [\"RF\"]\n",
    "\n",
    "pipeline['all'] = pipeline['feature_extraction'] + pipeline['dimensionality_reduction'] + pipeline['learning_algorithm']\n",
    "grid_error = np.zeros((4, 3))\n",
    "random_error = np.zeros((4, 3))\n",
    "bayesian_error = np.zeros((4, 3))"
   ]
  },
  {
   "cell_type": "code",
   "execution_count": 2,
   "metadata": {
    "collapsed": true
   },
   "outputs": [],
   "source": [
    "z = 0\n",
    "data_name = datasets[z]"
   ]
  },
  {
   "cell_type": "code",
   "execution_count": 4,
   "metadata": {
    "collapsed": false
   },
   "outputs": [
    {
     "ename": "TypeError",
     "evalue": "load() got an unexpected keyword argument 'encoding'",
     "output_type": "error",
     "traceback": [
      "\u001b[0;31m---------------------------------------------------------------------------\u001b[0m",
      "\u001b[0;31mTypeError\u001b[0m                                 Traceback (most recent call last)",
      "\u001b[0;32m<ipython-input-4-c833583a7711>\u001b[0m in \u001b[0;36m<module>\u001b[0;34m()\u001b[0m\n\u001b[1;32m      6\u001b[0m \u001b[0mtype1\u001b[0m \u001b[0;34m=\u001b[0m \u001b[0;34m'bayesian_MCMC'\u001b[0m\u001b[0;34m\u001b[0m\u001b[0m\n\u001b[1;32m      7\u001b[0m obj = pickle.load(open(results_home + 'intermediate/' + type1 + '/' + type1 + '_breast_run_' +\n\u001b[0;32m----> 8\u001b[0;31m                            str(1) + '.pkl','rb'), encoding='latin1')\n\u001b[0m\u001b[1;32m      9\u001b[0m \u001b[0mpath_pipelines\u001b[0m \u001b[0;34m=\u001b[0m \u001b[0mobj\u001b[0m\u001b[0;34m.\u001b[0m\u001b[0mall_incumbents\u001b[0m\u001b[0;34m\u001b[0m\u001b[0m\n\u001b[1;32m     10\u001b[0m \u001b[0;34m\u001b[0m\u001b[0m\n",
      "\u001b[0;31mTypeError\u001b[0m: load() got an unexpected keyword argument 'encoding'"
     ]
    }
   ],
   "source": [
    "start = 1\n",
    "stop = 5\n",
    "if data_name == 'breast':\n",
    "    stop = 5\n",
    "\n",
    "type1 = 'bayesian_MCMC'\n",
    "obj = pickle.load(open(results_home + 'intermediate/' + type1 + '/' + type1 + '_breast_run_' +\n",
    "                           str(1) + '.pkl','rb'), encoding='latin1')\n",
    "path_pipelines = obj.all_incumbents\n",
    "\n",
    "fe_params = set()\n",
    "dr_params = set()\n",
    "la_params = set()\n",
    "for i in range(len(path_pipelines)):\n",
    "    p = path_pipelines[i]\n",
    "    fe_params.add(p._values['haralick_distance'])\n",
    "    dr_params.add((p._values['isomap_n_neighbors'], p._values['isomap_n_components']))\n",
    "    la_params.add((p._values['rf_n_estimators'], p._values['rf_max_features']))\n",
    "\n",
    "fe_params = list(fe_params)\n",
    "dr_params = list(dr_params)\n",
    "la_params = list(la_params)"
   ]
  },
  {
   "cell_type": "code",
   "execution_count": null,
   "metadata": {
    "collapsed": true
   },
   "outputs": [],
   "source": []
  }
 ],
 "metadata": {
  "kernelspec": {
   "display_name": "Python 2",
   "language": "python",
   "name": "python2"
  },
  "language_info": {
   "codemirror_mode": {
    "name": "ipython",
    "version": 2
   },
   "file_extension": ".py",
   "mimetype": "text/x-python",
   "name": "python",
   "nbconvert_exporter": "python",
   "pygments_lexer": "ipython2",
   "version": "2.7.12"
  }
 },
 "nbformat": 4,
 "nbformat_minor": 1
}
